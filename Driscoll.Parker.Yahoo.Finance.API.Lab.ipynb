{
 "cells": [
  {
   "cell_type": "code",
   "execution_count": 1,
   "id": "1576c222-e9c6-444c-9513-abd46edd4f3f",
   "metadata": {},
   "outputs": [],
   "source": [
    "import json\n",
    "import requests"
   ]
  },
  {
   "cell_type": "code",
   "execution_count": 4,
   "id": "057c9c51-16af-4f40-9273-d6d52ae629e8",
   "metadata": {},
   "outputs": [
    {
     "name": "stdin",
     "output_type": "stream",
     "text": [
      "Enter stock tickers with commas in between:  AMZN,AAPL,BA\n"
     ]
    },
    {
     "name": "stdout",
     "output_type": "stream",
     "text": [
      "Amazon.com, Inc.: 2957.97\n",
      "Apple Inc.: 166.23\n",
      "The Boeing Company: 188.85\n"
     ]
    }
   ],
   "source": [
    "#getting input from the user\n",
    "string_input = input(\"Enter stock tickers with commas in between: \")\n",
    "clean_string_input = string_input.replace(\" \", \"\")\n",
    "\n",
    "#variable that represents number of tickers entered\n",
    "number_inputs = 0\n",
    "for i in string_input:\n",
    "    if i == ',':\n",
    "        number_inputs += 1\n",
    "        \n",
    "number_inputs = number_inputs + 1\n",
    "\n",
    "\n",
    "#accessing Yahoo Finance API\n",
    "url = \"https://yfapi.net/v6/finance/quote\"\n",
    "\n",
    "exercise_querystring = {\"symbols\":clean_string_input}\n",
    "\n",
    "exercise_headers = {\n",
    "    'x-api-key': \"M3Fixwes7J8KHaytzUOMu3ephQC70cSfaVbMo2jO\"\n",
    "    }\n",
    "\n",
    "exercise_response = requests.request(\"GET\", url, headers= exercise_headers, params=exercise_querystring)\n",
    "\n",
    "exercise_response_2 = exercise_response.json()\n",
    "\n",
    "\n",
    "#initializing list to collect company names and share prices\n",
    "output = []\n",
    "#looping through ticker symbols and pulling company name and share price from API\n",
    "for key in range(number_inputs):\n",
    "    ticker_price_list = []\n",
    "    ticker_price_list.append(exercise_response_2['quoteResponse']['result'][key]['longName'])\n",
    "    ticker_price_list.append(exercise_response_2['quoteResponse']['result'][key]['regularMarketPrice'])\n",
    "    output.append(ticker_price_list)\n",
    "\n",
    "#formatting strings and ints in the list to appear as one string\n",
    "\n",
    "for list in output:\n",
    "    final_str = list[0] + \": \" + str(list[1])\n",
    "    print(final_str)"
   ]
  }
 ],
 "metadata": {
  "kernelspec": {
   "display_name": "Python 3",
   "language": "python",
   "name": "python3"
  },
  "language_info": {
   "codemirror_mode": {
    "name": "ipython",
    "version": 3
   },
   "file_extension": ".py",
   "mimetype": "text/x-python",
   "name": "python",
   "nbconvert_exporter": "python",
   "pygments_lexer": "ipython3",
   "version": "3.8.8"
  }
 },
 "nbformat": 4,
 "nbformat_minor": 5
}
